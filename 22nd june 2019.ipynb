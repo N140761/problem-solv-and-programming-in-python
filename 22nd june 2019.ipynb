{
 "cells": [
  {
   "cell_type": "markdown",
   "metadata": {},
   "source": [
    "#### Date:22 June 2019\n",
    "#### Day Objectives\n",
    "- File Handling\n",
    "    - Basic File data processing\n",
    "        - Accessing and modifying fiel data\n",
    "    - Character Count\n",
    "    - Line Count \n",
    "    - File Size\n",
    "    - Word count\n",
    "    - Unique word count"
   ]
  },
  {
   "cell_type": "code",
   "execution_count": 6,
   "metadata": {},
   "outputs": [
    {
     "data": {
      "text/plain": [
       "'hi every one'"
      ]
     },
     "execution_count": 6,
     "metadata": {},
     "output_type": "execute_result"
    }
   ],
   "source": [
    "# Read a file - file should exist(read mode)\n",
    "# Write to a file - Existing(append mode) or new file(write mode)\n",
    "\n",
    "def readfile(filepath):\n",
    "    with open(filepath, 'r') as f:\n",
    "        fieldata = f.read()\n",
    "    return fieldata\n",
    "    \n",
    "filepath = 'book.txt'\n",
    "readfile(filepath)"
   ]
  },
  {
   "cell_type": "markdown",
   "metadata": {},
   "source": [
    "### Char count"
   ]
  },
  {
   "cell_type": "code",
   "execution_count": 7,
   "metadata": {},
   "outputs": [
    {
     "name": "stdout",
     "output_type": "stream",
     "text": [
      "12\n"
     ]
    }
   ],
   "source": [
    "\n",
    "def charactercount(filepath):\n",
    "    with open(filepath, 'r') as f:\n",
    "        char = 0\n",
    "        for i in f:\n",
    "            for j in i:\n",
    "                char = char+1\n",
    "        print(char)\n",
    "filepath ='book.txt'\n",
    "charactercount(filepath)\n",
    "            \n",
    "        \n",
    "        \n",
    "    "
   ]
  },
  {
   "cell_type": "markdown",
   "metadata": {},
   "source": [
    "### Line count"
   ]
  },
  {
   "cell_type": "code",
   "execution_count": 1,
   "metadata": {},
   "outputs": [
    {
     "name": "stdout",
     "output_type": "stream",
     "text": [
      "1\n"
     ]
    }
   ],
   "source": [
    "def linecount(filepath):\n",
    "    with open(filepath, 'r') as f:\n",
    "        char = 0\n",
    "        for i in f:\n",
    "            char = char+1\n",
    "        print(char)\n",
    "filepath ='book.txt'\n",
    "linecount(filepath)"
   ]
  },
  {
   "cell_type": "markdown",
   "metadata": {},
   "source": [
    "### File size"
   ]
  },
  {
   "cell_type": "code",
   "execution_count": 31,
   "metadata": {},
   "outputs": [
    {
     "name": "stdout",
     "output_type": "stream",
     "text": [
      "None\n"
     ]
    }
   ],
   "source": [
    "import os\n",
    "filepath=\"book.txt\"\n",
    "def fullsize(filepath):\n",
    "    os.path.getsize(filepath)\n",
    "print(fullsize(filepath))    "
   ]
  },
  {
   "cell_type": "markdown",
   "metadata": {},
   "source": [
    "### Word count"
   ]
  },
  {
   "cell_type": "code",
   "execution_count": 6,
   "metadata": {},
   "outputs": [
    {
     "name": "stdout",
     "output_type": "stream",
     "text": [
      "5\n"
     ]
    }
   ],
   "source": [
    "\n",
    "def wordcount(filepath):\n",
    "    with open(filepath, 'r') as f:\n",
    "        s = f.read().split()\n",
    "        print(len(s))\n",
    "        \n",
    "filepath ='book.txt'\n",
    "wordcount(filepath)\n",
    "        \n",
    "        "
   ]
  },
  {
   "cell_type": "markdown",
   "metadata": {},
   "source": [
    "### Unique word count"
   ]
  },
  {
   "cell_type": "code",
   "execution_count": 1,
   "metadata": {},
   "outputs": [
    {
     "name": "stdout",
     "output_type": "stream",
     "text": [
      "['hi', 'every', 'one', 'fygvyg', 'nyug']\n",
      "5\n"
     ]
    }
   ],
   "source": [
    "file='book.txt'\n",
    "def uniquewordcount(file):\n",
    "    with open(file,'r') as f:\n",
    "        s=f.read().split()\n",
    "        print(s)\n",
    "        y=set(s)\n",
    "        print(len(y))\n",
    "        return \n",
    "       \n",
    "uniquewordcount(file)\n",
    "\n",
    "    \n",
    "        \n",
    "        "
   ]
  },
  {
   "cell_type": "markdown",
   "metadata": {},
   "source": [
    "### 23rd June 2019\n",
    "### Practice session"
   ]
  },
  {
   "cell_type": "code",
   "execution_count": 8,
   "metadata": {},
   "outputs": [
    {
     "data": {
      "text/plain": [
       "[1, 2, 3]"
      ]
     },
     "execution_count": 8,
     "metadata": {},
     "output_type": "execute_result"
    }
   ],
   "source": [
    "# Function to get unique elemens in a list\n",
    "# [1,2,3,3,2,1] -> [1,2,3]\n",
    "# Create a empty unique list [1,2,3]\n",
    "\n",
    "def uniquedata(li):\n",
    "    unique = []                              # Create an empty unique list\n",
    "    for element in li:                       # For every element in the main list,\n",
    "        if element not in unique:                 # check if it exists in the unique list\n",
    "            unique.append(element)                # if it does not exist,add it to unique list\n",
    "    return unique                                 # else if it already exists, move on to \n",
    "li = [1,2,3,3,2,1]\n",
    "\n",
    "uniquedata(li)    "
   ]
  },
  {
   "cell_type": "code",
   "execution_count": 29,
   "metadata": {},
   "outputs": [
    {
     "name": "stdout",
     "output_type": "stream",
     "text": [
      "['hi', 'every', 'one', 'fygvyg', 'nyug']\n",
      "['hi', 'every', 'one', 'fygvyg', 'nyug']\n",
      "hi 1\n",
      "every 1\n",
      "one 1\n",
      "fygvyg 1\n",
      "nyug 1\n"
     ]
    }
   ],
   "source": [
    "# Function to print the frequency count of \n",
    "# Frequency distribution\n",
    "\n",
    "# Data in line 1\n",
    "# Data in line 2\n",
    "# Data in line 3\n",
    "# O/P\n",
    "# Data : 3\n",
    "# in : 3\n",
    "# line : 3\n",
    "# 1 : 1\n",
    "# 2 : 1\n",
    "# 3 : 1\n",
    "def uniquewordcount(file):\n",
    "    with open(file,'r') as f:\n",
    "        s=f.read().split() \n",
    "        print(s)\n",
    "        l=[]\n",
    "        for i in s:\n",
    "            if i not in l:\n",
    "                l.append(i)\n",
    "        print(l)\n",
    "        for j in l:\n",
    "            c=0\n",
    "            for k in range(0,len(s)):\n",
    "                if j==s[k]:\n",
    "                    c+=1\n",
    "            print(j,c)\n",
    "        c=0\n",
    "                   \n",
    "    return \n",
    "       \n",
    "uniquewordcount(file)\n",
    "                \n",
    "                \n",
    "    "
   ]
  },
  {
   "cell_type": "code",
   "execution_count": null,
   "metadata": {},
   "outputs": [],
   "source": []
  }
 ],
 "metadata": {
  "kernelspec": {
   "display_name": "Python 3",
   "language": "python",
   "name": "python3"
  },
  "language_info": {
   "codemirror_mode": {
    "name": "ipython",
    "version": 3
   },
   "file_extension": ".py",
   "mimetype": "text/x-python",
   "name": "python",
   "nbconvert_exporter": "python",
   "pygments_lexer": "ipython3",
   "version": "3.7.3"
  }
 },
 "nbformat": 4,
 "nbformat_minor": 2
}

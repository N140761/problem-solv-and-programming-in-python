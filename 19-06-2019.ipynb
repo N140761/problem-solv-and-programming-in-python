{
 "cells": [
  {
   "cell_type": "markdown",
   "metadata": {},
   "source": [
    "### 1.Patlu and Motu works in a building construction, they have to put some number of bricks N from one place to another, and started doing their work. They decided , they end up with a fun challenge who will put the last brick.\n",
    "\n",
    "They to follow a simple rule, In the i'th round, Patlu puts i bricks whereas Motu puts ix2 bricks.\n",
    "\n",
    "There are only N bricks, you need to help find the challenge result to find who put the last brick."
   ]
  },
  {
   "cell_type": "code",
   "execution_count": 16,
   "metadata": {},
   "outputs": [
    {
     "name": "stdout",
     "output_type": "stream",
     "text": [
      "13\n",
      "Motu\n"
     ]
    }
   ],
   "source": [
    "# Brick gane\n",
    "N=int(input())\n",
    "t=0\n",
    "for i in range(1,N):\n",
    "    if(t==N):\n",
    "         break\n",
    "    t+=i\n",
    "    a=\"Patlu\"\n",
    "    if(t==N):\n",
    "         break\n",
    "    t+=i*2\n",
    "    a=\"Motu\"\n",
    "print(a)"
   ]
  },
  {
   "cell_type": "markdown",
   "metadata": {},
   "source": [
    "### 2.You have been given an array A of size N consisting of positive integers. You need to find and print the product of all the number in this array Modulo 10^9+7"
   ]
  },
  {
   "cell_type": "code",
   "execution_count": 1,
   "metadata": {},
   "outputs": [
    {
     "name": "stdout",
     "output_type": "stream",
     "text": [
      "5\n",
      "1 2 3 4 5\n",
      "120\n"
     ]
    }
   ],
   "source": [
    "# Find product\n",
    "n= int(input())\n",
    "x = input()\n",
    "answer = 1\n",
    "for i in x.split():\n",
    "    answer = (answer*int(i))%(1000000000+7)\n",
    "print(answer)"
   ]
  },
  {
   "cell_type": "markdown",
   "metadata": {},
   "source": [
    "### 3.Arpasland has surrounded by attackers. A truck enters the city. The driver claims the load is food and medicine from Iranians. Ali is one of the soldiers in Arpasland. He doubts about the truck, maybe it's from the siege. He knows that a tag is valid if the sum of every two consecutive digits of it is even and its letter is not a vowel. Determine if the tag of the truck is valid or not.\n",
    "\n",
    "We consider the letters \"A\",\"E\",\"I\",\"O\",\"U\",\"Y\" to be vowels for this problem."
   ]
  },
  {
   "cell_type": "code",
   "execution_count": 1,
   "metadata": {},
   "outputs": [
    {
     "name": "stdout",
     "output_type": "stream",
     "text": [
      "12X345-67\n",
      "invalid\n",
      "invalid\n",
      "invalid\n",
      "invalid\n"
     ]
    }
   ],
   "source": [
    "s = input()\n",
    "#y = len(s)\n",
    "c=8\n",
    "for i in range(0, len(s)-1,1):\n",
    "    if s[i].isdigit()==True and s[i+1].isdigit()==True:\n",
    "        if(int(s[i])+int(s[i+1]))%2!=0:\n",
    "            print(\"invalid\")\n",
    "            c=0\n",
    "    elif(s[i].isalpha()==True) and s[i]!='X' and s[i]!='B':\n",
    "        if s[i]==\"a\" or \"e\" or \"i\" or \"o\" or \"u\" or \"A\" or \"E\" or \"I\" or \"O\" or \"U\":\n",
    "            print(\"invalid\")\n",
    "            c=0\n",
    "if(c!=0):\n",
    "    print(\"valid\")\n"
   ]
  }
 ],
 "metadata": {
  "kernelspec": {
   "display_name": "Python 3",
   "language": "python",
   "name": "python3"
  },
  "language_info": {
   "codemirror_mode": {
    "name": "ipython",
    "version": 3
   },
   "file_extension": ".py",
   "mimetype": "text/x-python",
   "name": "python",
   "nbconvert_exporter": "python",
   "pygments_lexer": "ipython3",
   "version": "3.7.3"
  }
 },
 "nbformat": 4,
 "nbformat_minor": 2
}

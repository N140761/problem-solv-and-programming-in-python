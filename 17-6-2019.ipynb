{
 "cells": [
  {
   "cell_type": "markdown",
   "metadata": {},
   "source": [
    "### 1.  Write a program to determine whether a number N is equal to the sum of its proper positive divisors(excluding the number itself)."
   ]
  },
  {
   "cell_type": "code",
   "execution_count": 26,
   "metadata": {},
   "outputs": [
    {
     "name": "stdout",
     "output_type": "stream",
     "text": [
      "24\n",
      "6\n"
     ]
    }
   ],
   "source": [
    "# proper number\n",
    "def perfect(n):\n",
    "    sum = 0\n",
    "    for i in range(1, n):\n",
    "        if n%i ==0:\n",
    "            sum = sum+i\n",
    "    if sum==n:\n",
    "        return True\n",
    "    return False\n",
    "def generateperfect(num):\n",
    "    for n in range(1, num):\n",
    "        if perfect(n):\n",
    "            print(n)\n",
    "    return\n",
    "num = int(input())\n",
    "generateperfect(num)"
   ]
  },
  {
   "cell_type": "markdown",
   "metadata": {},
   "source": [
    "### 2.You are given a string of N characters Ai.Determine the number of digits and the number of english letters in S"
   ]
  },
  {
   "cell_type": "code",
   "execution_count": 1,
   "metadata": {},
   "outputs": [
    {
     "name": "stdout",
     "output_type": "stream",
     "text": [
      "45djfhruksfn\n",
      "2\n",
      "10\n"
     ]
    }
   ],
   "source": [
    "# count letter and divisors\n",
    "def countletters(s):\n",
    "    count1 = 0\n",
    "    count2 = 0\n",
    "    for i in s:\n",
    "        if (i.isdigit()):\n",
    "            count1 =count1+1\n",
    "        elif (i.isalpha()):\n",
    "            count2 = count2+1\n",
    "    print(count1)\n",
    "    print(count2)\n",
    "s = input()\n",
    "countletters(s)\n"
   ]
  },
  {
   "cell_type": "markdown",
   "metadata": {},
   "source": [
    "###  3.Yoy are given a number N\n",
    "### Write a program to find a natural number that is smaller than N such that N gives the highest  remainder when divided by that number\n",
    "### If there is more than one such number, print the smallest one"
   ]
  },
  {
   "cell_type": "code",
   "execution_count": 2,
   "metadata": {},
   "outputs": [
    {
     "name": "stdout",
     "output_type": "stream",
     "text": [
      "5\n",
      "[0]\n",
      "0\n",
      "[0, 1]\n",
      "1\n",
      "[0, 1, 2]\n",
      "2\n",
      "[0, 1, 2, 1]\n",
      "2\n"
     ]
    }
   ],
   "source": [
    "def maxremainder(n):\n",
    "    rem = 0\n",
    "    s = []\n",
    "    maxn = 0\n",
    "    r = 0\n",
    "    for i in range(1, n):\n",
    "        s.append(n%i)\n",
    "        print(s)\n",
    "        print(s.index(max(s)))\n",
    "n = int(input())\n",
    "maxremainder(n)"
   ]
  },
  {
   "cell_type": "markdown",
   "metadata": {},
   "source": [
    "### 4.A special number is defined as a number which has at lest P distinct prime factors\n",
    "### Write a program to determine whether a number N is a special number"
   ]
  },
  {
   "cell_type": "code",
   "execution_count": 18,
   "metadata": {},
   "outputs": [
    {
     "data": {
      "text/plain": [
       "True"
      ]
     },
     "execution_count": 18,
     "metadata": {},
     "output_type": "execute_result"
    }
   ],
   "source": [
    "# special number\n",
    "# Function to determine if a number is special number or not\n",
    "def isspecialnumber(n, p):\n",
    "    if numberprimefactors(n) >= p:\n",
    "        return True\n",
    "    return False\n",
    "    \n",
    "    \n",
    "# Function to check if number is prime\n",
    "def isprime(n):\n",
    "    flag = 1\n",
    "    if n == 2:\n",
    "        return True\n",
    "    for i in range(2, n//2 + 1):\n",
    "        if n % i == 0:\n",
    "            flag = 0\n",
    "            return False\n",
    "    if flag == 1:\n",
    "        return True\n",
    "    \n",
    "\n",
    "\n",
    "# Function to determine numer of prime factors for a given number\n",
    "\n",
    "\n",
    "def numberprimefactors(n):\n",
    "    if isprime(n):\n",
    "        return 1\n",
    "    count = 0\n",
    "    for i in range(2, n // 2 + 1):\n",
    "        if isprime(i) and n % i == 0:\n",
    "            count += 1\n",
    "    return count\n",
    "\n",
    "def solution2():\n",
    "    p = int(input())\n",
    "    t = int(input())\n",
    "    for i in range(0, t):\n",
    "        n = int (input())\n",
    "        if isspecialnumber(n, p):\n",
    "            print(\"YES\")\n",
    "        else:\n",
    "            print(\"NO\")\n",
    "\n",
    "isspecialnumber(30, 2)        "
   ]
  }
 ],
 "metadata": {
  "kernelspec": {
   "display_name": "Python 3",
   "language": "python",
   "name": "python3"
  },
  "language_info": {
   "codemirror_mode": {
    "name": "ipython",
    "version": 3
   },
   "file_extension": ".py",
   "mimetype": "text/x-python",
   "name": "python",
   "nbconvert_exporter": "python",
   "pygments_lexer": "ipython3",
   "version": "3.7.3"
  }
 },
 "nbformat": 4,
 "nbformat_minor": 2
}

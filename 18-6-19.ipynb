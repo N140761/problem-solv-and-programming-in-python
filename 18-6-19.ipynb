{
 "cells": [
  {
   "cell_type": "markdown",
   "metadata": {},
   "source": [
    "### Tuples\n",
    "- t1 = ()\n",
    "- li = []\n",
    "\n",
    "- Difference between Lists and tuples\n",
    "\n",
    "- lists are mutable - can be changed/modified\n",
    "  - Used to access, modify,add,modify\n",
    "- tuples are mutable-cannot be changed once initiated # used to access data one\n",
    "- All slicing works"
   ]
  },
  {
   "cell_type": "code",
   "execution_count": 4,
   "metadata": {},
   "outputs": [
    {
     "data": {
      "text/plain": [
       "(8, 6, 0)"
      ]
     },
     "execution_count": 4,
     "metadata": {},
     "output_type": "execute_result"
    }
   ],
   "source": [
    "t1 = (1, 2, 8, 6, 0)\n",
    "\n",
    "t1[3]                       # Accessing the fourth element\n",
    "\n",
    "t1[len(t1)//2:]             # Accessing all elements from middle element to last"
   ]
  },
  {
   "cell_type": "code",
   "execution_count": 5,
   "metadata": {},
   "outputs": [
    {
     "data": {
      "text/plain": [
       "tuple"
      ]
     },
     "execution_count": 5,
     "metadata": {},
     "output_type": "execute_result"
    }
   ],
   "source": [
    "type(t1)"
   ]
  },
  {
   "cell_type": "markdown",
   "metadata": {},
   "source": [
    "### Dictionaries\n",
    "\n",
    "- It works on the concepts of set\n",
    "- Unique data\n",
    "\n",
    "\n",
    "- Keys, values\n",
    "- Key is the unique identifier for a value\n",
    "- Value is data that can be accessed with a key"
   ]
  },
  {
   "cell_type": "code",
   "execution_count": 15,
   "metadata": {},
   "outputs": [
    {
     "data": {
      "text/plain": [
       "False"
      ]
     },
     "execution_count": 15,
     "metadata": {},
     "output_type": "execute_result"
    }
   ],
   "source": [
    "d1 = {\"k1\":\"value1\", \"k2\":\"value2\"}\n",
    "\n",
    "d1[\"k2\"]               # Accessing the value with key \"k2\"\n",
    "\n",
    "d1.keys()              # Returns list of all keys\n",
    "\n",
    "d1.values()            # Returns lists of all values\n",
    "\n",
    "d1.items()            # Returns list of tuples of keys and values\n",
    "\n",
    "d1[\"k3\"] = \"value3\"   # Adding an element to the dictionaries\n",
    "d1\n",
    "d1[\"k3\"] = \"value4\"   # Updating an element\n",
    "d1.pop(\"k3\")          # Removing an element\n",
    "d1\n",
    "\"K3\" in d1            # searching the key"
   ]
  },
  {
   "cell_type": "markdown",
   "metadata": {},
   "source": [
    "### Contact Application\n",
    "- Add Contacts\n",
    "- Search for contact\n",
    "- List all contact\n",
    "    - name1 : phone1\n",
    "    - name2 : phone2\n",
    "- Modify contact\n",
    "- Remove contact\n",
    "- Import contacts\n"
   ]
  },
  {
   "cell_type": "code",
   "execution_count": 34,
   "metadata": {},
   "outputs": [
    {
     "name": "stdout",
     "output_type": "stream",
     "text": [
      "contact dhana is added\n"
     ]
    }
   ],
   "source": [
    "contacts = {}\n",
    "\n",
    "def addcontact(name, phone):          # Verify that the contact doesnot already exist\n",
    "    if name not in contacts:\n",
    "        contacts[name] = phone\n",
    "        print(\"contact %s is added\" %name)\n",
    "    else:\n",
    "           print(\"contact %s is already exists\" %name)\n",
    "    return\n",
    "addcontact(\"dhana\", 6892379474)\n",
    "    "
   ]
  },
  {
   "cell_type": "code",
   "execution_count": 33,
   "metadata": {},
   "outputs": [
    {
     "name": "stdout",
     "output_type": "stream",
     "text": [
      "name10 does not exists\n"
     ]
    }
   ],
   "source": [
    "def searchcontacts(name):\n",
    "    if name in contacts:\n",
    "         print(name, \":\", contacts(name))\n",
    "    else:\n",
    "        print(\"%s does not exists\" % name)\n",
    "    return\n",
    "searchcontacts(\"name10\")"
   ]
  },
  {
   "cell_type": "code",
   "execution_count": 27,
   "metadata": {},
   "outputs": [
    {
     "name": "stdout",
     "output_type": "stream",
     "text": [
      "2 contacts added successfully\n"
     ]
    }
   ],
   "source": [
    "# new contacts is given as a dictionary\n",
    "\n",
    "# Merge new contacts with existing contacts\n",
    "def importcontacts(newcontacts):\n",
    "    contacts.update(newcontacts)\n",
    "    print(len(newcontacts.keys()), \"contacts added successfully\")\n",
    "    return\n",
    "newcontacts = {\"name2\":12356789, \"name3\" :562372384}\n",
    "importcontacts(newcontacts)\n",
    "    \n",
    "    "
   ]
  },
  {
   "cell_type": "markdown",
   "metadata": {},
   "source": [
    "### Packages and Modules\n",
    "- **packages**->collection of modules(python file.py)\n",
    " - **packages has sun packages** ->**modules** -> **functions**\n",
    " - **Module** -> A single pytho file containing functions\n"
   ]
  },
  {
   "cell_type": "code",
   "execution_count": 35,
   "metadata": {},
   "outputs": [
    {
     "data": {
      "text/plain": [
       "3.141592653589793"
      ]
     },
     "execution_count": 35,
     "metadata": {},
     "output_type": "execute_result"
    }
   ],
   "source": [
    "import math                  # math package\n",
    "\n",
    "math.floor(123.456)\n",
    "math.pi                       # value of pie"
   ]
  },
  {
   "cell_type": "code",
   "execution_count": 36,
   "metadata": {},
   "outputs": [
    {
     "data": {
      "text/plain": [
       "123"
      ]
     },
     "execution_count": 36,
     "metadata": {},
     "output_type": "execute_result"
    }
   ],
   "source": [
    "from math import floor\n",
    "floor(123.345)"
   ]
  },
  {
   "cell_type": "code",
   "execution_count": 37,
   "metadata": {},
   "outputs": [
    {
     "data": {
      "text/plain": [
       "123"
      ]
     },
     "execution_count": 37,
     "metadata": {},
     "output_type": "execute_result"
    }
   ],
   "source": [
    "from math import floor as f1\n",
    "f1(123.345)"
   ]
  },
  {
   "cell_type": "markdown",
   "metadata": {},
   "source": [
    "### function to generate random numbers\n"
   ]
  },
  {
   "cell_type": "code",
   "execution_count": 38,
   "metadata": {},
   "outputs": [
    {
     "data": {
      "text/plain": [
       "97"
      ]
     },
     "execution_count": 38,
     "metadata": {},
     "output_type": "execute_result"
    }
   ],
   "source": [
    "import random\n",
    "\n",
    "#def generaterandom numbers(n):\n",
    "\n",
    "random.randint(0, 100)"
   ]
  },
  {
   "cell_type": "markdown",
   "metadata": {},
   "source": [
    "### Function to generate n random numbers"
   ]
  },
  {
   "cell_type": "code",
   "execution_count": 44,
   "metadata": {},
   "outputs": [
    {
     "name": "stdout",
     "output_type": "stream",
     "text": [
      "88 45 35 24 52 89 48 7 84 98 "
     ]
    }
   ],
   "source": [
    "import random\n",
    "\n",
    "def generaterandomnumbers(n, lb, ub):\n",
    "    for i in range(0, n):\n",
    "        print(random.randint(lb, ub), end = \" \")\n",
    "\n",
    "generaterandomnumbers(10, 0, 100)"
   ]
  },
  {
   "cell_type": "code",
   "execution_count": 2,
   "metadata": {},
   "outputs": [
    {
     "data": {
      "text/plain": [
       "2"
      ]
     },
     "execution_count": 2,
     "metadata": {},
     "output_type": "execute_result"
    }
   ],
   "source": [
    "from packages import numerical\n",
    "\n",
    "numerical.numberprimefactors(1000)"
   ]
  },
  {
   "cell_type": "code",
   "execution_count": 11,
   "metadata": {},
   "outputs": [
    {
     "data": {
      "text/plain": [
       "True"
      ]
     },
     "execution_count": 11,
     "metadata": {},
     "output_type": "execute_result"
    }
   ],
   "source": [
    "from packages import numerical\n",
    "\n",
    "numerical.isprime(13)\n"
   ]
  },
  {
   "cell_type": "code",
   "execution_count": null,
   "metadata": {},
   "outputs": [],
   "source": []
  }
 ],
 "metadata": {
  "kernelspec": {
   "display_name": "Python 3",
   "language": "python",
   "name": "python3"
  },
  "language_info": {
   "codemirror_mode": {
    "name": "ipython",
    "version": 3
   },
   "file_extension": ".py",
   "mimetype": "text/x-python",
   "name": "python",
   "nbconvert_exporter": "python",
   "pygments_lexer": "ipython3",
   "version": "3.7.3"
  }
 },
 "nbformat": 4,
 "nbformat_minor": 2
}

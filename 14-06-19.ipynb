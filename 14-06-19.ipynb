{
 "cells": [
  {
   "cell_type": "markdown",
   "metadata": {},
   "source": [
    "### Problem Solving and Programming in Python\n",
    "\n",
    "\n",
    "#### Date-14 June 2019\n",
    "\n",
    "### Day Objectives\n",
    "\n",
    "\n",
    "- python data structures\n",
    "   - lists\n",
    "   - tuples\n",
    "   - dictonaries\n",
    "- basic problem on data structures\n",
    "- Advanced problem set\n",
    "- packages in modules in python\n",
    "\n"
   ]
  },
  {
   "cell_type": "code",
   "execution_count": null,
   "metadata": {},
   "outputs": [],
   "source": []
  },
  {
   "cell_type": "markdown",
   "metadata": {},
   "source": [
    "### Python Data Structures\n",
    "\n",
    "\n",
    "#### Lists"
   ]
  },
  {
   "cell_type": "code",
   "execution_count": 57,
   "metadata": {},
   "outputs": [
    {
     "ename": "TypeError",
     "evalue": "'int' object is not iterable",
     "output_type": "error",
     "traceback": [
      "\u001b[1;31m---------------------------------------------------------------------------\u001b[0m",
      "\u001b[1;31mTypeError\u001b[0m                                 Traceback (most recent call last)",
      "\u001b[1;32m<ipython-input-57-24d8f9cb79a0>\u001b[0m in \u001b[0;36m<module>\u001b[1;34m\u001b[0m\n\u001b[0;32m     58\u001b[0m \u001b[0mli\u001b[0m\u001b[1;33m\u001b[0m\u001b[1;33m\u001b[0m\u001b[0m\n\u001b[0;32m     59\u001b[0m \u001b[1;33m\u001b[0m\u001b[0m\n\u001b[1;32m---> 60\u001b[1;33m \u001b[0mmax\u001b[0m\u001b[1;33m(\u001b[0m\u001b[0mli\u001b[0m\u001b[1;33m[\u001b[0m\u001b[1;33m-\u001b[0m\u001b[1;36m1\u001b[0m\u001b[1;33m]\u001b[0m\u001b[1;33m)\u001b[0m\u001b[1;33m\u001b[0m\u001b[1;33m\u001b[0m\u001b[0m\n\u001b[0m\u001b[0;32m     61\u001b[0m \u001b[0mli\u001b[0m\u001b[1;33m\u001b[0m\u001b[1;33m\u001b[0m\u001b[0m\n",
      "\u001b[1;31mTypeError\u001b[0m: 'int' object is not iterable"
     ]
    }
   ],
   "source": [
    "li = [123, 345, 567]\n",
    "\n",
    "li # Access the entire list\n",
    "\n",
    "li[1] # Access an element with index in a list\n",
    "\n",
    "li[1:] # Access all element from second to last element\n",
    "li = li[::-1] # reversing list elements and reassigning to orginal list\n",
    "li\n",
    "\n",
    "li = li[::-1]\n",
    "li[::2] # Accessing even elements\n",
    "\n",
    "li[1::2]\n",
    "\n",
    "# Lists can be accessed, manipulated in two different ways\n",
    "    # Direct referencing -:[inedx]\n",
    "    #Indirect referencing -: through funtions\n",
    "    \n",
    "    \n",
    "li.append(684)# Adding an element to end of the list\n",
    "\n",
    "li\n",
    "\n",
    "li.insert(1, 234)# Adding an element at end of the list\n",
    "\n",
    "li\n",
    "\n",
    "li.pop()# Sort elements in asecding order of the list\n",
    "\n",
    "# Remove an element at a particular index\n",
    "\n",
    "\n",
    "li.pop(1) # Remove the last element in the list\n",
    "\n",
    "li2 = [234,456,789]\n",
    "\n",
    "\n",
    "li.extend(li2) # Merge list 2 in list 1\n",
    "\n",
    "sum(li) # total adding\n",
    "\n",
    "max(li) # max element in the list\n",
    "\n",
    "len(li) # lenth of the list\n",
    "min(li)\n",
    "\n",
    "# Average of list elements\n",
    "\n",
    "sum(li)//len(li)\n",
    "\n",
    "# Average of alternate elements\n",
    "\n",
    "\n",
    "sum(li[1::2])/len(li[1::2])\n",
    "\n",
    "min(li)\n",
    "li\n",
    "\n",
    "max(li)-1\n",
    "  try:\n",
    "        li.index(10000)\n",
    "except:\n",
    "        catch\n",
    "    "
   ]
  },
  {
   "cell_type": "code",
   "execution_count": 34,
   "metadata": {},
   "outputs": [
    {
     "name": "stdout",
     "output_type": "stream",
     "text": [
      "345\n"
     ]
    }
   ],
   "source": [
    "# Function to identify the second largent in the list\n",
    "# Sort the data and select the second last element \n",
    "# Sort the data in reverse order, and select the second \n",
    "# Remove the max element and then get the max of the \n",
    "\n",
    "def secondlargest(li):\n",
    "    li.sort()\n",
    "    print(li[-2])\n",
    "    return\n",
    "secondlargest([123, 345, 567])\n",
    "\n",
    "\n",
    "\n",
    "    "
   ]
  },
  {
   "cell_type": "code",
   "execution_count": 55,
   "metadata": {},
   "outputs": [
    {
     "name": "stdout",
     "output_type": "stream",
     "text": [
      "567\n"
     ]
    }
   ],
   "source": [
    "# Function that returns the nth largest\n",
    "def genericlargest(li,n):\n",
    "    li.sort()\n",
    "    print(li[n])\n",
    "    return\n",
    "genericlargest([123, 345, 567],2)\n",
    "\n"
   ]
  },
  {
   "cell_type": "code",
   "execution_count": 63,
   "metadata": {},
   "outputs": [
    {
     "data": {
      "text/plain": [
       "567"
      ]
     },
     "execution_count": 63,
     "metadata": {},
     "output_type": "execute_result"
    }
   ],
   "source": [
    "# Function to identify the second largent in the list\n",
    "def secondlargest(li):\n",
    "    li.sort()\n",
    "    return li[-2]\n",
    "secondlargest(li)\n"
   ]
  },
  {
   "cell_type": "code",
   "execution_count": 69,
   "metadata": {},
   "outputs": [
    {
     "data": {
      "text/plain": [
       "5"
      ]
     },
     "execution_count": 69,
     "metadata": {},
     "output_type": "execute_result"
    }
   ],
   "source": [
    "# Function to search for data in a list\n",
    "# Search  for the key in the list and return the index of the key \n",
    "\n",
    "def linearsearch(li, key):\n",
    "    for index in range(0,len(li)):\n",
    "        if li[index] == key:\n",
    "            return index\n",
    "    return -1\n",
    "\n",
    "linearsearch(li,234)   \n",
    "\n",
    "\n",
    "\n",
    "        \n",
    "def linearsearch2(li, key):\n",
    "    for element in li:\n",
    "        if element == key:\n",
    "            return li.index(element)\n",
    "    return -1\n",
    "\n",
    "linearsearch2(li, 234)\n",
    "\n",
    "\n",
    "def linearsearch3(li, key):\n",
    "    if key in li:\n",
    "        return li.index(key)\n",
    "    return -1\n",
    "\n",
    "linearsearch3(li, 789)"
   ]
  },
  {
   "cell_type": "code",
   "execution_count": 72,
   "metadata": {},
   "outputs": [
    {
     "data": {
      "text/plain": [
       "1"
      ]
     },
     "execution_count": 72,
     "metadata": {},
     "output_type": "execute_result"
    }
   ],
   "source": [
    "# Function to count the occurances in a string\n",
    "# \"Python programming\", m-> 2\n",
    "\n",
    "def countoccurances(s, c):\n",
    "    count = 0\n",
    "    for ch in s:\n",
    "        if ch == c:\n",
    "                count +=1\n",
    "    return count\n",
    "\n",
    "def countoccurances2(s,c):\n",
    "    return s.count(c)\n",
    "\n",
    "countoccurances2(\"python programming\", 'py')\n",
    "\n",
    "\n",
    "# Function to find the number of occurances of a subset\n",
    "# \"abcabcddcha\", \"ab\" ->2\n",
    "\n",
    "            \n"
   ]
  },
  {
   "cell_type": "code",
   "execution_count": 1,
   "metadata": {},
   "outputs": [
    {
     "data": {
      "text/plain": [
       "[1, 2, 3, 4, 5, 6]"
      ]
     },
     "execution_count": 1,
     "metadata": {},
     "output_type": "execute_result"
    }
   ],
   "source": [
    "s = \"1 2 3 4 5 6\"\n",
    "li = s.split()\n",
    "numberlist = []\n",
    "for i in li:\n",
    "    numberlist.append(int(i))\n",
    "numberlist"
   ]
  },
  {
   "cell_type": "code",
   "execution_count": null,
   "metadata": {},
   "outputs": [],
   "source": [
    "You are \n",
    "input format\n",
    "\n",
    "First Line:N\n",
    "    \n",
    "Output format\n",
    "\n",
    "print the value of the expression"
   ]
  },
  {
   "cell_type": "code",
   "execution_count": null,
   "metadata": {},
   "outputs": [],
   "source": [
    "n = int(input())\n",
    "\n",
    "def sumofsquresofnaturalnumbers(n):\n",
    "    sum = 0\n",
    "    for i in range(1, n+1):\n",
    "        sum = sum + i ** 2\n",
    "    return sum\n",
    "sumofsquresofnaturalnumbers(n)"
   ]
  },
  {
   "cell_type": "code",
   "execution_count": 15,
   "metadata": {},
   "outputs": [
    {
     "ename": "IndentationError",
     "evalue": "expected an indented block (<ipython-input-15-e1b9dedff974>, line 9)",
     "output_type": "error",
     "traceback": [
      "\u001b[1;36m  File \u001b[1;32m\"<ipython-input-15-e1b9dedff974>\"\u001b[1;36m, line \u001b[1;32m9\u001b[0m\n\u001b[1;33m    for i in s:\u001b[0m\n\u001b[1;37m      ^\u001b[0m\n\u001b[1;31mIndentationError\u001b[0m\u001b[1;31m:\u001b[0m expected an indented block\n"
     ]
    }
   ],
   "source": [
    "\n",
    "\n",
    "n = int(input())\n",
    "s = input()\n",
    "s = s.split\n",
    "#  '1 2 3 4 5'\n",
    "li = []\n",
    "def closestzero(li):\n",
    "for i in s:\n",
    "    li.append(int(i))\n",
    "    # 1000 100 1 2 3 \n",
    "    # Separate all numbers less than zero \n",
    "    # all numbers greater = zero , get the \n",
    "    # -1 2 5 -10 -20\n",
    "    # -1 -10 -20 -> -1\n",
    "    # 2 5 -> 2\n",
    "    # -1 1 -> cpunt from 0 to -1, 2\n",
    "    n1 = []\n",
    "    \n",
    "    p1 = []\n",
    "    for i in li:\n",
    "        if i >= 0:\n",
    "            p1.append(i)\n",
    "    nc = max(n1)\n",
    "    pc = min(p1)\n",
    "    if pc == 0:\n",
    "        return pc\n",
    "    if abs(nc) == pc:\n",
    "        return pc\n",
    "    elif abs(nc) < pc:\n",
    "        return abs(nc)\n",
    "    else:\n",
    "        return pc\n",
    "closestzero(li):\n",
    "    \n"
   ]
  },
  {
   "cell_type": "code",
   "execution_count": null,
   "metadata": {},
   "outputs": [],
   "source": []
  },
  {
   "cell_type": "markdown",
   "metadata": {},
   "source": [
    "** Explanation**\n",
    "- li = [3, 2 -1, -2, -3] (Original List)\n",
    "- Sort the data\n",
    "- li = [-3, -2, -1, 2 3] (Sorted list)\n",
    "- p1 = [1, 2, 2, 3, 3]  (Posotive Sorted list)\n",
    "- p1[0] -> check this number is -ve or +ve in the list\n",
    "- if p1[0] in li:\n",
    "    -return p1[0]\n",
    "- else:\n",
    "    -return -p1[0]\n",
    "li = [-1, -2, 2, 3]\n",
    "li.sort()\n",
    "\n",
    "li"
   ]
  },
  {
   "cell_type": "code",
   "execution_count": 2,
   "metadata": {},
   "outputs": [
    {
     "name": "stdout",
     "output_type": "stream",
     "text": [
      "9\n",
      "890\n"
     ]
    }
   ],
   "source": [
    "n = int(input())\n",
    "s = input()\n",
    "s = s.split()\n",
    "li = []\n",
    "for i in s:\n",
    "    li.append(abs(int(i)))\n",
    "\n",
    "    "
   ]
  },
  {
   "cell_type": "markdown",
   "metadata": {},
   "source": [
    "## task problems"
   ]
  },
  {
   "cell_type": "code",
   "execution_count": 13,
   "metadata": {},
   "outputs": [
    {
     "name": "stdout",
     "output_type": "stream",
     "text": [
      "100\n"
     ]
    }
   ],
   "source": [
    "# big sum\n",
    "# explanation\n",
    "# li = [3, 2 -1, -2, -3] (Original List)\n",
    "# Sort the data\n",
    "# li = [-3, -2, -1, 2 3] (Sorted list)\n",
    "# p1 = [1, 2, 2, 3, 3] (Posotive Sorted list)\n",
    "# p1[0] -> check this number is -ve or +ve in the list\n",
    "# if p1[0] in li:\n",
    "# return p1[0]\n",
    "#else\n",
    " # -return -p1[0]\n",
    "    \n",
    "li = [-1, -2, 2, 3, 100] # end number in the list\n",
    "li.sort()\n",
    "pl =[]\n",
    "\n",
    "for i in li:\n",
    "    pl.append(abs(i))\n",
    "pl.sort()\n",
    "if pl[-1] in li:\n",
    "    print(pl[-1])\n",
    "else:\n",
    "    print(-pl[-1])"
   ]
  },
  {
   "cell_type": "code",
   "execution_count": 12,
   "metadata": {},
   "outputs": [
    {
     "name": "stdout",
     "output_type": "stream",
     "text": [
      "1\n"
     ]
    }
   ],
   "source": [
    "li = [-1, -2, 2, 3] # reverse number\n",
    "li.sort()\n",
    "pl =[]\n",
    "\n",
    "for i in li:\n",
    "    pl.append(abs(i))\n",
    "pl.sort()\n",
    "if pl[0] in li:\n",
    "    print(-pl[0])\n",
    "else:\n",
    "    print(pl[0])"
   ]
  },
  {
   "cell_type": "code",
   "execution_count": 14,
   "metadata": {},
   "outputs": [
    {
     "name": "stdout",
     "output_type": "stream",
     "text": [
      "-1\n"
     ]
    }
   ],
   "source": [
    "li = [-1, -2, 2, 3, 100] # first in the list\n",
    "li.sort()\n",
    "pl =[]\n",
    "\n",
    "for i in li:\n",
    "    pl.append(abs(i))\n",
    "pl.sort()\n",
    "if pl[0] in li:\n",
    "    print(pl[0])\n",
    "else:\n",
    "    print(-pl[0])"
   ]
  },
  {
   "cell_type": "markdown",
   "metadata": {},
   "source": [
    "### Problem 3\n",
    "You are given three numbers a,b, and c\n",
    "Write a program to find the largest number\n",
    "Which is less than or equal to c and leaves\n",
    "remainder b when divided by a.\n",
    "\n",
    "3 2 9\n",
    "9 % 3 == 0\n",
    "8 % 3 == 2\n",
    "\n",
    "\n",
    "\n",
    "1 2 4\n",
    "4 % 1 == 0\n",
    "3 % 1 == 0\n",
    "2 % 1 == 0\n",
    "1 % 1 == 0\n",
    "0 % 1 == 0\n",
    "-1 % 1 == 0\n"
   ]
  },
  {
   "cell_type": "code",
   "execution_count": 19,
   "metadata": {},
   "outputs": [
    {
     "data": {
      "text/plain": [
       "8"
      ]
     },
     "execution_count": 19,
     "metadata": {},
     "output_type": "execute_result"
    }
   ],
   "source": [
    "def cal(a, b, c):\n",
    "    for i in range (c, a-1, -1): # \n",
    "        if i % a == b:\n",
    "            return i\n",
    "    return -1\n",
    "cal(3, 2, 9)\n",
    "    "
   ]
  },
  {
   "cell_type": "code",
   "execution_count": null,
   "metadata": {},
   "outputs": [],
   "source": [
    "# Function to check toggle string characters\n",
    "\n",
    "s = 'a'\n",
    "\n",
    "s.islower() # Check the case of a character\n",
    "s.isupper()\n",
    "\n",
    "s.lower() # convert a character to lower\n",
    "s.upper() # convert a character to upper\n",
    "s.split()\n",
    "list(s)\n",
    "#s.split(\"\")\n",
    "\n",
    "s = list(s)\n",
    "\"\".join(s)"
   ]
  },
  {
   "cell_type": "code",
   "execution_count": 3,
   "metadata": {},
   "outputs": [
    {
     "data": {
      "text/plain": [
       "'abc'"
      ]
     },
     "execution_count": 3,
     "metadata": {},
     "output_type": "execute_result"
    }
   ],
   "source": [
    "# Function to toggle string characters\n",
    "\n",
    "def togglestring(s):\n",
    "         # convert the string into a list of a character\n",
    "         s = list(s)\n",
    "         t =\"\" #[]\n",
    "         for i in s:\n",
    "                if i.islower():\n",
    "                    t+=append(i.upper())\n",
    "                else:\n",
    "                    t+=append(i.lower())\n",
    "         return t #\"\" .join(s)\n",
    "togglestring(\"abc\")\n",
    "            "
   ]
  },
  {
   "cell_type": "markdown",
   "metadata": {},
   "source": [
    "### Duration\n",
    "**Input**: start time,end time (HH, MM)\n",
    "        HH - {00,01, 02, 03... 23} \n",
    "        MM - {00, 01, 02, 03.... 59}\n",
    "        HH MM- {00 00,23 59}\n",
    "        \n",
    "        \n",
    "**Output**: time difference in HH MM"
   ]
  },
  {
   "cell_type": "code",
   "execution_count": 11,
   "metadata": {},
   "outputs": [
    {
     "name": "stdout",
     "output_type": "stream",
     "text": [
      "0 30\n"
     ]
    }
   ],
   "source": [
    "# Function to calculate the time differnce as  total number of minutes\n",
    "# Convert the total minutes into HH MM\n",
    "\n",
    "s = \"1 44 2 14\"\n",
    "\n",
    "def minutedifference(s):\n",
    "    s = s.split()\n",
    "    sh = int(s[0])\n",
    "    sm = int(s[1])\n",
    "    eh = int(s[2])\n",
    "    em = int(s[3])\n",
    "    startminutes = (sh *60) + sm\n",
    "    endminutes = (eh *60) + em\n",
    "    return endminutes - startminutes\n",
    "\n",
    "def outputtimeformat(minutes):\n",
    "    # Convert minutes to HH MM\n",
    "    hh = minutes // 60\n",
    "    mm = minutes % 60\n",
    "    print(hh, mm)\n",
    "    return \n",
    "minutes = minutedifference(s)\n",
    "outputtimeformat(minutes)"
   ]
  },
  {
   "cell_type": "markdown",
   "metadata": {},
   "source": [
    "### Play with numbers \n",
    "line 1 : array size, no of queries(q)\n",
    "line 2 : n array elements\n",
    "next q lines : query - sun array of the original array\n",
    "\n",
    "\n",
    "5 2\n",
    "1 2 3 4 5\n",
    "1 2\n",
    "0 5   "
   ]
  }
 ],
 "metadata": {
  "kernelspec": {
   "display_name": "Python 3",
   "language": "python",
   "name": "python3"
  },
  "language_info": {
   "codemirror_mode": {
    "name": "ipython",
    "version": 3
   },
   "file_extension": ".py",
   "mimetype": "text/x-python",
   "name": "python",
   "nbconvert_exporter": "python",
   "pygments_lexer": "ipython3",
   "version": "3.7.3"
  }
 },
 "nbformat": 4,
 "nbformat_minor": 2
}

{
 "cells": [
  {
   "cell_type": "markdown",
   "metadata": {},
   "source": [
    "### Problem solving and Progrsmming\n",
    "\n",
    "#### data "
   ]
  },
  {
   "cell_type": "code",
   "execution_count": null,
   "metadata": {},
   "outputs": [],
   "source": []
  },
  {
   "cell_type": "code",
   "execution_count": null,
   "metadata": {},
   "outputs": [],
   "source": []
  },
  {
   "cell_type": "code",
   "execution_count": null,
   "metadata": {},
   "outputs": [],
   "source": []
  },
  {
   "cell_type": "code",
   "execution_count": null,
   "metadata": {},
   "outputs": [],
   "source": []
  },
  {
   "cell_type": "markdown",
   "metadata": {},
   "source": [
    "### String Slicing"
   ]
  },
  {
   "cell_type": "code",
   "execution_count": 15,
   "metadata": {},
   "outputs": [
    {
     "data": {
      "text/plain": [
       "'ixlnhnhy'"
      ]
     },
     "execution_count": 15,
     "metadata": {},
     "output_type": "execute_result"
    }
   ],
   "source": [
    "s1 = \"Pythondhanalaxmi\"\n",
    "\n",
    "s1[0] # Accessing the first Character in a string\n",
    "\n",
    "s1[1] # # Accessing the first Character in a string\n",
    "\n",
    "s1[len(s1)-1] #  Accessing the last Character in a string\n",
    "\n",
    "s1[-1] # Another way of Accessing the last Character\n",
    "\n",
    "s1[-2] # Accessing the penultimate Character of a string\n",
    "\n",
    "s1[-2] # Accessing the penultimate character of a string\n",
    "\n",
    "s1[0:2] # Accessing the first two  Character in a string\n",
    "\n",
    "s1[-2:] # Accessing the last two Character in a string\n",
    "\n",
    "s1[4:] # Accessing all characters 5th character to end of strings\n",
    "\n",
    "\n",
    "#Accessing all character except first and last character\n",
    "\n",
    "s1[1:-1]\n",
    "# Accessing the middle character in an odd string\n",
    "\n",
    "s1[len(s1)//2]\n",
    "# reverse of a string\n",
    "\n",
    "s1[-1::-1] # Accessing the reverse order\n",
    "\n",
    "s1[-1:-3:-1] # Accessing last two characters in a  reverse string\n",
    "\n",
    "# Reverse the middle two characters in an even length string\n",
    "\n",
    "s1[len(s1)//2]:s1[len(s1)//2]\n",
    "# Accessing alternate characters in a string\n",
    "# \"python\" ->\"pto\"\n",
    "s1[::3]\n",
    "\n",
    "\n",
    "# Accessing alternate characters in a string in reverse order\n",
    "# \"python\" ->\"nhy\"\n",
    "s1[::-2]\n",
    "\n"
   ]
  },
  {
   "cell_type": "markdown",
   "metadata": {},
   "source": [
    "### Functions"
   ]
  },
  {
   "cell_type": "code",
   "execution_count": 17,
   "metadata": {},
   "outputs": [
    {
     "data": {
      "text/plain": [
       "'nohtyP'"
      ]
     },
     "execution_count": 17,
     "metadata": {},
     "output_type": "execute_result"
    }
   ],
   "source": [
    "# Function to reverse a string\n",
    "def reverseString(s):\n",
    "    return s[::-1]\n",
    "\n",
    "\n",
    "reverseString(\"Python\")"
   ]
  },
  {
   "cell_type": "code",
   "execution_count": 26,
   "metadata": {},
   "outputs": [
    {
     "data": {
      "text/plain": [
       "False"
      ]
     },
     "execution_count": 26,
     "metadata": {},
     "output_type": "execute_result"
    }
   ],
   "source": [
    "#Function to check if a string is a palindrome\n",
    "def palindrome(s):\n",
    "    if s ==s[::-1]:\n",
    "        return True\n",
    "    else:\n",
    "        return False\n",
    "palindrome(\"abc\")\n",
    "    "
   ]
  },
  {
   "cell_type": "code",
   "execution_count": 2,
   "metadata": {},
   "outputs": [
    {
     "data": {
      "text/plain": [
       "True"
      ]
     },
     "execution_count": 2,
     "metadata": {},
     "output_type": "execute_result"
    }
   ],
   "source": [
    "# Function to check if a given year is a leap year\n",
    "def isLeapYear(year):\n",
    "    if year % 400 ==0 or (year % 100 !=0 and year % 4 ==0):\n",
    "        return True\n",
    "    return False\n",
    "\n",
    "isLeapYear(2020)"
   ]
  },
  {
   "cell_type": "code",
   "execution_count": 3,
   "metadata": {},
   "outputs": [
    {
     "data": {
      "text/plain": [
       "6"
      ]
     },
     "execution_count": 3,
     "metadata": {},
     "output_type": "execute_result"
    }
   ],
   "source": [
    "# Function to count the number of digits in a given number\n",
    "def isnumberofdigits(n):\n",
    "    return len(str(n))\n",
    "\n",
    "isnumberofdigits(123456)\n"
   ]
  },
  {
   "cell_type": "code",
   "execution_count": 47,
   "metadata": {},
   "outputs": [
    {
     "data": {
      "text/plain": [
       "45"
      ]
     },
     "execution_count": 47,
     "metadata": {},
     "output_type": "execute_result"
    }
   ],
   "source": [
    "# Function to identify the greatest of 4 numbers\n",
    "def greatest4(n1, n2,n3,n4):\n",
    "    if(n1 > n2 and n1 > n3 and n1 > n4):\n",
    "        return n1\n",
    "    elif n2 > n1 and n2 > n3 and n2 > n4:\n",
    "        return n2\n",
    "    elif n3 > n1 and n3 > n2 and n3 > n4:\n",
    "        return n3\n",
    "    else:\n",
    "         return n4\n",
    "greatest4(12,23,34,45)\n"
   ]
  },
  {
   "cell_type": "markdown",
   "metadata": {},
   "source": [
    "### Iteration\n",
    "* for\n",
    "* while\n",
    "\n",
    "\n",
    "\n",
    "\n",
    "\n",
    "#### For loop in Python\n",
    "\n",
    "\n",
    "[101, 210]\n",
    "\n",
    "for i in range(101, 210+1)\n",
    "    print number\n",
    "    \n",
    "o/p :-\n",
    "\n",
    "101\n",
    "102\n",
    ".\n",
    ".\n",
    ".\n",
    ".\n",
    "210"
   ]
  },
  {
   "cell_type": "code",
   "execution_count": 38,
   "metadata": {},
   "outputs": [
    {
     "name": "stdout",
     "output_type": "stream",
     "text": [
      "1 2 3 4 5 6 7 8 9 10 11 12 13 14 15 16 17 18 19 20 21 22 23 24 25 26 27 28 29 30 "
     ]
    }
   ],
   "source": [
    "# Function to print n natural numbers\n",
    "def printNNaturalNumbers(n):\n",
    "    for counter in range(1,n+1):\n",
    "        print(counter,end=\" \")\n",
    "    return\n",
    "\n",
    "printNNaturalNumbers(30)\n"
   ]
  },
  {
   "cell_type": "code",
   "execution_count": 6,
   "metadata": {},
   "outputs": [
    {
     "name": "stdout",
     "output_type": "stream",
     "text": [
      "500 502 504 506 508 510 512 514 516 518 520 522 524 "
     ]
    }
   ],
   "source": [
    "# Function to print the alternate values in a  range in the same line\n",
    "#[500, 550] ->500 502 504......550\n",
    "#(500, 550) ->501 503 505.....549\n",
    "#range(500, 550) ->500 501,502........549\n",
    "# All set based functions in python have start \n",
    "\n",
    "def alteernateValues(lb, ub):\n",
    "    for i in range(lb, ub+1, 2):\n",
    "        print(i, end=\" \")\n",
    "    return\n",
    "alteernateValues(500,525)"
   ]
  },
  {
   "cell_type": "code",
   "execution_count": 12,
   "metadata": {},
   "outputs": [
    {
     "name": "stdout",
     "output_type": "stream",
     "text": [
      "525 524 523 522 521 520 519 518 517 516 515 514 513 512 511 510 509 508 507 506 505 504 503 502 501 "
     ]
    }
   ],
   "source": [
    "# Function to print reverse of given range in the same line\n",
    "\n",
    "\n",
    "def reverseNumbers(lb,ub):\n",
    "    for i in range(ub, lb, -1):\n",
    "        print(i, end=\" \")\n",
    "    return\n",
    "reverseNumbers(500, 525)"
   ]
  },
  {
   "cell_type": "code",
   "execution_count": 24,
   "metadata": {},
   "outputs": [
    {
     "name": "stdout",
     "output_type": "stream",
     "text": [
      "525 523 521 519 517 515 513 511 509 507 505 503 501 "
     ]
    }
   ],
   "source": [
    "# Function to print the odd numbers in reverse order in a given range\n",
    "\n",
    "def reverseoddnum(lb,ub):\n",
    "    for i in range(ub,lb-1,-1):\n",
    "        if i % 2 != 0:\n",
    "            print(i, end=\" \")\n",
    "    return\n",
    "reverseoddnum(500, 525)"
   ]
  },
  {
   "cell_type": "code",
   "execution_count": 35,
   "metadata": {},
   "outputs": [
    {
     "data": {
      "text/plain": [
       "165"
      ]
     },
     "execution_count": 35,
     "metadata": {},
     "output_type": "execute_result"
    }
   ],
   "source": [
    "# Function to calculate sum of numbers in given range\n",
    "\n",
    "def sumofnumbers(lb,ub):\n",
    "    sum = 0\n",
    "    for i in range(lb,ub+1):\n",
    "        sum = sum+i\n",
    "    return sum\n",
    "\n",
    "sumofnumbers(10,20)\n",
    "\n",
    "\n",
    "       \n",
    "\n",
    "\n",
    "    \n",
    "            \n"
   ]
  },
  {
   "cell_type": "code",
   "execution_count": 4,
   "metadata": {},
   "outputs": [
    {
     "data": {
      "text/plain": [
       "8.0"
      ]
     },
     "execution_count": 4,
     "metadata": {},
     "output_type": "execute_result"
    }
   ],
   "source": [
    "# function to calculate the average of a given range\n",
    "#(1,5) ->3\n",
    "\n",
    "def average(lb,ub):\n",
    "    sum1 = 0\n",
    "    count = 0\n",
    "    avg = 0 \n",
    "    for i in range(lb,ub+1):\n",
    "        sum1 = sum1+i\n",
    "        count = count+1\n",
    "        avg = sum1/count\n",
    "    return avg\n",
    "\n",
    "average(1,15)\n",
    "    "
   ]
  },
  {
   "cell_type": "code",
   "execution_count": 5,
   "metadata": {},
   "outputs": [
    {
     "name": "stdout",
     "output_type": "stream",
     "text": [
      "2000 2004 2008 2012 2016 2020 "
     ]
    }
   ],
   "source": [
    "# Function to generate all leap years in a given time period\n",
    "#2000 - 2020 -> 2000 2004 2008 2012 2014 2016 2020\n",
    "def leapyear(lb, ub):\n",
    "    for year in range(lb, ub+1):\n",
    "        if year % 400 ==0 or(year % 100 !=0 and year % 4 == 0):\n",
    "            print(year, end =\" \")\n",
    "    return\n",
    "leapyear(2000,2020)\n",
    "        "
   ]
  },
  {
   "cell_type": "code",
   "execution_count": 30,
   "metadata": {},
   "outputs": [
    {
     "data": {
      "text/plain": [
       "(366, 365)"
      ]
     },
     "execution_count": 30,
     "metadata": {},
     "output_type": "execute_result"
    }
   ],
   "source": [
    "# calculate number of days in a given time period\n",
    "\n",
    "def numberofdays(lb, ub):\n",
    "    days = 0\n",
    "    leapyear = 0\n",
    "    nonleapyear = 0\n",
    "    for year in range(lb,ub+1):\n",
    "        if year % 400 ==0 or(year % 100 !=0 and year % 4 == 0):\n",
    "            leapyear = days+366\n",
    "        else:\n",
    "            nonleapyear = days+365\n",
    "    \n",
    "    return leapyear,nonleapyear\n",
    "    \n",
    "\n",
    "numberofdays(2002,2020)\n",
    "    \n"
   ]
  },
  {
   "cell_type": "code",
   "execution_count": 31,
   "metadata": {},
   "outputs": [
    {
     "data": {
      "text/plain": [
       "(5110, 1830)"
      ]
     },
     "execution_count": 31,
     "metadata": {},
     "output_type": "execute_result"
    }
   ],
   "source": [
    "# Calculate number of days in a given time period using leap year logic\n",
    "# For every year in the given time period,if the year is not a leap year  -> add 365 to sum.If leap year, add 366\n",
    "def numberofdays(lb, ub):\n",
    "    days = 0\n",
    "    leapdays = 0\n",
    "    for year in range(lb,ub+1):\n",
    "        if year % 400 ==0 or(year % 100 !=0 and year % 4 == 0):\n",
    "            leapdays = leapdays+366\n",
    "        else:\n",
    "            days = days+365\n",
    "    \n",
    "    return days, leapdays\n",
    "    \n",
    "\n",
    "numberofdays(2002,2020)"
   ]
  },
  {
   "cell_type": "code",
   "execution_count": 13,
   "metadata": {},
   "outputs": [
    {
     "data": {
      "text/plain": [
       "(52704, 2196)"
      ]
     },
     "execution_count": 13,
     "metadata": {},
     "output_type": "execute_result"
    }
   ],
   "source": [
    "# Function to calculate number of hours for a given period \n",
    "# number of hours (11, 1975, 3, 1999) -> 204504 205248\n",
    "# number of hours (5, 2019, 6, 2019) -> 1464\n",
    "def numberofhours(lb, ub):\n",
    "    days = 0\n",
    "    leaphours = 0\n",
    "    for year in range(lb,ub+1):\n",
    "         if year % 400 ==0 or(year % 100 !=0 and year % 4 == 0):\n",
    "                leaphours = leaphours+8784\n",
    "                days = days+366\n",
    "    return leaphours, days\n",
    "\n",
    "numberofhours( 1975,1999)\n",
    "    "
   ]
  },
  {
   "cell_type": "code",
   "execution_count": null,
   "metadata": {},
   "outputs": [],
   "source": [
    "def numberofdays(startyear,endyear):\n",
    "    sum = 03\n",
    "        "
   ]
  },
  {
   "cell_type": "code",
   "execution_count": null,
   "metadata": {},
   "outputs": [],
   "source": []
  },
  {
   "cell_type": "code",
   "execution_count": null,
   "metadata": {},
   "outputs": [],
   "source": []
  },
  {
   "cell_type": "code",
   "execution_count": null,
   "metadata": {},
   "outputs": [],
   "source": []
  },
  {
   "cell_type": "code",
   "execution_count": 54,
   "metadata": {},
   "outputs": [
    {
     "name": "stdout",
     "output_type": "stream",
     "text": [
      "1 2 3 4 5 6 7 8 9 "
     ]
    }
   ],
   "source": [
    "# Function to print N Natural numners using a while loop\n",
    "\n",
    "def nNaturalNumbers(n):\n",
    "    counter = 1\n",
    "    while counter <= n:\n",
    "        print(counter,end = \" \")\n",
    "        counter = counter +1\n",
    "    return\n",
    "nNaturalNumbers(9)"
   ]
  },
  {
   "cell_type": "code",
   "execution_count": 21,
   "metadata": {},
   "outputs": [
    {
     "ename": "SyntaxError",
     "evalue": "'return' outside function (<ipython-input-21-b8b7c2d89226>, line 8)",
     "output_type": "error",
     "traceback": [
      "\u001b[1;36m  File \u001b[1;32m\"<ipython-input-21-b8b7c2d89226>\"\u001b[1;36m, line \u001b[1;32m8\u001b[0m\n\u001b[1;33m    return\u001b[0m\n\u001b[1;37m          ^\u001b[0m\n\u001b[1;31mSyntaxError\u001b[0m\u001b[1;31m:\u001b[0m 'return' outside function\n"
     ]
    }
   ],
   "source": [
    "# Function to print all numbers divisible by 6\n",
    "# and not a factor of 100 in a given range(lb, ub) inclusive\n",
    "def divisibleby6(lb,ub):\n",
    "    for i in range(lb,ub+1):\n",
    "        if i%6 == 0 and i%100 != 0:\n",
    "            print(i,end = \" \")\n",
    "            \n",
    "        return\n",
    "\n",
    "divisibleby6( 20,50)\n",
    "    \n"
   ]
  },
  {
   "cell_type": "code",
   "execution_count": 10,
   "metadata": {},
   "outputs": [
    {
     "name": "stdout",
     "output_type": "stream",
     "text": [
      "69120.0 "
     ]
    }
   ],
   "source": [
    "# Function to find the average of all numbers in a given range(lb, ub) inclusive\n",
    "def averageofnumbers(lb,ub):\n",
    "    counter = 0\n",
    "    avg = 0\n",
    "    sum1 = 0\n",
    "    for i in range(lb,ub+1):\n",
    "        if i%2 == 0:\n",
    "            sum1 =sum1+i**3\n",
    "            counter = counter +1\n",
    "    avg = sum1/counter\n",
    "    \n",
    "    print(avg, end = \" \")\n",
    "    \n",
    "    return\n",
    "\n",
    "averageofnumbers(12,60)\n",
    "    \n",
    "    \n",
    "                \n",
    "        \n",
    "    \n",
    "    "
   ]
  },
  {
   "cell_type": "code",
   "execution_count": 60,
   "metadata": {},
   "outputs": [
    {
     "name": "stdout",
     "output_type": "stream",
     "text": [
      "1 2 3 4 6 12 "
     ]
    }
   ],
   "source": [
    "# Function to generate the list of factors for a given number\n",
    "# 12->1 2 3 4 6 12\n",
    "def factorslist(n):\n",
    "    for i in range(1,n+1):\n",
    "        if n%i  == 0:\n",
    "            print(i,end=\" \")\n",
    "    return\n",
    "factorslist(12)"
   ]
  },
  {
   "cell_type": "code",
   "execution_count": 65,
   "metadata": {},
   "outputs": [
    {
     "name": "stdout",
     "output_type": "stream",
     "text": [
      "3 "
     ]
    }
   ],
   "source": [
    "# Function to calculate the factorial of a given number\n",
    "def factorialnum(n):\n",
    "    fact=1\n",
    "    for i in range (n,n+1):\n",
    "        fact=fact*i\n",
    "        print(fact,end =\" \")\n",
    "        return\n",
    "\n",
    "factorialnum(3)   \n",
    "        \n",
    "        "
   ]
  },
  {
   "cell_type": "code",
   "execution_count": 13,
   "metadata": {},
   "outputs": [
    {
     "name": "stdout",
     "output_type": "stream",
     "text": [
      "45.0\n"
     ]
    }
   ],
   "source": [
    "# Function to check a given number is a prime\n",
    "def prime(num):\n",
    "        for i in range(2, num//2):\n",
    "            if num % i == 0:\n",
    "                return False\n",
    "            return True\n",
    "prime(83)\n",
    "\n",
    "\n",
    "    \n",
    "    \n",
    "    \n",
    "    "
   ]
  },
  {
   "cell_type": "code",
   "execution_count": 14,
   "metadata": {},
   "outputs": [
    {
     "name": "stdout",
     "output_type": "stream",
     "text": [
      "45.0\n"
     ]
    }
   ],
   "source": [
    "# Function to find average of first N prime numbers\n",
    "def prime1avg(lb,ub):\n",
    "    sum = 0\n",
    "    avg = 0\n",
    "    count = 0\n",
    "    for num in range(lb,ub+1):\n",
    "        if prime(num):\n",
    "            sum = sum + num\n",
    "            count = count + 1\n",
    "            avg = sum/count\n",
    "        \n",
    "    print(avg)\n",
    "    return\n",
    "\n",
    "prime1avg(2,83)"
   ]
  },
  {
   "cell_type": "code",
   "execution_count": 16,
   "metadata": {},
   "outputs": [
    {
     "data": {
      "text/plain": [
       "True"
      ]
     },
     "execution_count": 16,
     "metadata": {},
     "output_type": "execute_result"
    }
   ],
   "source": [
    "# Function to find given number is perfect or not\n",
    "def perfectnumber(number):\n",
    "    sum = 0\n",
    "    for i in range(1,number):\n",
    "        if(number % i == 0):\n",
    "            sum = sum + i\n",
    "            if(sum == number):\n",
    "                return True\n",
    "    return False\n",
    "perfectnumber(28)"
   ]
  },
  {
   "cell_type": "code",
   "execution_count": 9,
   "metadata": {},
   "outputs": [
    {
     "name": "stdout",
     "output_type": "stream",
     "text": [
      "6 24 28 496 2016 8128 8190 "
     ]
    }
   ],
   "source": [
    "# Function to generate all Perfect number in a given range\n",
    "\n",
    "def perfectgiven(lb,ub):\n",
    "    \n",
    "    for number in range(lb,ub+1):\n",
    "        \n",
    "        if perfectnumber(number):\n",
    "            \n",
    "            print(number, end=\" \")\n",
    "    return\n",
    "\n",
    "perfectgiven(4,9000)"
   ]
  },
  {
   "cell_type": "code",
   "execution_count": null,
   "metadata": {},
   "outputs": [],
   "source": []
  }
 ],
 "metadata": {
  "kernelspec": {
   "display_name": "Python 3",
   "language": "python",
   "name": "python3"
  },
  "language_info": {
   "codemirror_mode": {
    "name": "ipython",
    "version": 3
   },
   "file_extension": ".py",
   "mimetype": "text/x-python",
   "name": "python",
   "nbconvert_exporter": "python",
   "pygments_lexer": "ipython3",
   "version": "3.7.3"
  }
 },
 "nbformat": 4,
 "nbformat_minor": 2
}
